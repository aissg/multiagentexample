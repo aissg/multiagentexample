{
 "cells": [
  {
   "cell_type": "markdown",
   "id": "fa86dabd-0fb0-4c87-8103-0f847f2b3da6",
   "metadata": {},
   "source": [
    "# CrewAI basic Multi-Agent LLM App: multi-agent app to replace the content marketing team"
   ]
  },
  {
   "cell_type": "markdown",
   "id": "4d9e373e-4b15-462d-ad24-59d305fc95c5",
   "metadata": {},
   "source": [
    "## Create App\n",
    "* As always, we recommend to create a virtualenv first. We use pyenv to do that.\n",
    "* Once you have the virtual environment set, in terminal, enter:"
   ]
  },
  {
   "cell_type": "code",
   "execution_count": 2,
   "id": "ea20dfe9-9874-47d3-a04c-bd1861d4c09b",
   "metadata": {},
   "outputs": [],
   "source": [
    "#poetry new basiccrewai --name app"
   ]
  },
  {
   "cell_type": "code",
   "execution_count": 3,
   "id": "ea409e9c-5020-44f2-a5d0-12098c6b32b1",
   "metadata": {},
   "outputs": [],
   "source": [
    "#cd basiccrewai"
   ]
  },
  {
   "cell_type": "code",
   "execution_count": 4,
   "id": "90cee83e-49f5-48bf-a54c-72fff32c6e1a",
   "metadata": {},
   "outputs": [],
   "source": [
    "#poetry add crewai beautifulsoup4"
   ]
  },
  {
   "cell_type": "markdown",
   "id": "69af1f45-53d8-4af2-a535-032b9bcdd690",
   "metadata": {},
   "source": [
    "* We got an error when trying to run the previous line in our terminal, but the error message was self-explanatory. In order to solve the problem, you just have to open the pyproject.toml file of the app and update the line 9 to:\n",
    "    * python = \">=3.12,<=3.13\" "
   ]
  },
  {
   "cell_type": "markdown",
   "id": "a4475451-942f-4101-8f99-1829ce2d37e2",
   "metadata": {},
   "source": [
    "## Open the project in the Editor and create the main file of the app\n",
    "* We will use Visual Studio Code.\n",
    "* We will create the main file of the app. We will call it app/multiagent.py"
   ]
  },
  {
   "cell_type": "markdown",
   "id": "9b83a7ec-e213-489c-b7bb-d6419415ed40",
   "metadata": {},
   "source": [
    "* Now, let's create our confidential .env file in the root directory with the OpenAI API keyl, the Tavily API key, and the LangSmith's credentials:\n",
    "  \n",
    "OPENAI_API_KEY=yourkey\n",
    "\n",
    "LANGCHAIN_TRACING_V2=true\n",
    "LANGCHAIN_ENDPOINT=https://api.smith.langchain.com\n",
    "LANGCHAIN_API_KEY=yourkey\n",
    "LANGCHAIN_PROJECT=yourprojectname\n",
    "\n",
    "TAVILY_API_KEY=yourkey"
   ]
  },
  {
   "cell_type": "markdown",
   "id": "4204349f-cf4e-40f9-a3ef-f0dced876659",
   "metadata": {},
   "source": [
    "* We will call our LangSmith project \"basiccrewai\".\n",
    "* Create a .gitignore file and write .env there to keep the .env file confidential."
   ]
  },
  {
   "cell_type": "markdown",
   "id": "dcbcb58e-ffba-46c1-a469-f4c2dc225c0b",
   "metadata": {},
   "source": [
    "## Import the necessary modules in app/multiagent.py"
   ]
  },
  {
   "cell_type": "markdown",
   "id": "87aeea8d-0775-471a-9b40-4b5c1b694221",
   "metadata": {},
   "source": [
    "* First, install python-dotenv via terminal:"
   ]
  },
  {
   "cell_type": "code",
   "execution_count": 5,
   "id": "ac645b16-81f2-4619-b858-b0e362b6290f",
   "metadata": {},
   "outputs": [],
   "source": [
    "#!pip install python-dotenv typing"
   ]
  },
  {
   "cell_type": "markdown",
   "id": "c81355e6-4861-4416-828c-803d4bcf75ec",
   "metadata": {},
   "source": [
    "* Then, import the necessary modules in app/multiagent.py"
   ]
  },
  {
   "cell_type": "code",
   "execution_count": 6,
   "id": "db2c9eed-45f6-4ba0-81e0-89be2c269068",
   "metadata": {},
   "outputs": [],
   "source": [
    "# import requests\n",
    "# import os\n",
    "# from dotenv import load_dotenv\n",
    "# from bs4 import BeautifulSoup\n",
    "# from crewai import Agent, Task, Crew\n",
    "# from langchain.tools import tool\n",
    "# from langchain_openai import ChatOpenAI\n",
    "# from langchain_community.tools.tavily_search import TavilySearchResults\n",
    "# load_dotenv()"
   ]
  },
  {
   "cell_type": "markdown",
   "id": "b7c1eb1d-0923-4f2d-aa5e-74048937ef9f",
   "metadata": {},
   "source": [
    "## Select the LLM"
   ]
  },
  {
   "cell_type": "code",
   "execution_count": 8,
   "id": "23e12b89-5f07-4938-8137-f7c2941df415",
   "metadata": {},
   "outputs": [],
   "source": [
    "# llm = ChatOpenAI(model=\"gpt-4-turbo-preview\")"
   ]
  },
  {
   "cell_type": "markdown",
   "id": "d5c88827-a295-4b3b-81ef-e8eca69693be",
   "metadata": {},
   "source": [
    "## Define the tools to use\n",
    "* Online searching with Tavily\n",
    "* HTML parsing with BeautifulSoup\n",
    "* return_direct=False\n",
    "    * Meaning: this tool will be returning results privately to the agent, not publicly to the app."
   ]
  },
  {
   "cell_type": "code",
   "execution_count": 9,
   "id": "3f778fb4-d38a-4e72-83d8-edda236d68c9",
   "metadata": {},
   "outputs": [],
   "source": [
    "# @tool(\"process_search_tool\", return_direct=False)\n",
    "# def process_search_tool(url: str) -> str:\n",
    "#     \"\"\"Used to process content found on the internet.\"\"\"\n",
    "#     response = requests.get(url=url)\n",
    "#     soup = BeautifulSoup(response.content, \"html.parser\")\n",
    "#     return soup.get_text()\n",
    "\n",
    "# tools = [TavilySearchResults(max_results=1), process_search_tool]\n"
   ]
  },
  {
   "cell_type": "markdown",
   "id": "024e5c0d-1826-4af3-9188-fa574e01b989",
   "metadata": {},
   "source": [
    "* Important note: for demo and cost purposes, we have set the max_results of the online search with Tavily to only 1. This indeed will limit the quality of the online search since our online search agent will only study one search result instead of comparing several results.\n",
    "* When you work in a professional app, set the max_results to a higher number but be careful with the const implications."
   ]
  },
  {
   "cell_type": "markdown",
   "id": "ad99aa32-62d6-4f8f-bcf2-9f6d886f7081",
   "metadata": {},
   "source": [
    "## Create the online_researcher agent"
   ]
  },
  {
   "cell_type": "code",
   "execution_count": null,
   "id": "ee299bf3-6a3d-4e25-90f3-df59fe7f0036",
   "metadata": {},
   "outputs": [],
   "source": [
    "# online_researcher = Agent(\n",
    "#     role=\"Online Researcher\",\n",
    "#     goal=\"Research the topic online\",\n",
    "#     backstory=\"\"\"Your primary role is to function as an intelligent online research assistant, adept at scouring \n",
    "#     the internet for the latest and most relevant trending stories across various sectors like politics, technology, \n",
    "#     health, culture, and global events. You possess the capability to access a wide range of online news sources, \n",
    "#     blogs, and social media platforms to gather real-time information.\"\"\",\n",
    "#     verbose=True,\n",
    "#     allow_delegation=True,\n",
    "#     tools=tools,\n",
    "#     llm=llm\n",
    "# )"
   ]
  },
  {
   "cell_type": "markdown",
   "id": "1b5d8122-27d8-4bb6-87e9-8579e16039f1",
   "metadata": {},
   "source": [
    "## Create the blog_manager agent"
   ]
  },
  {
   "cell_type": "code",
   "execution_count": null,
   "id": "791c9349-635c-428a-865d-0169eb5d7d08",
   "metadata": {},
   "outputs": [],
   "source": [
    "# blog_manager = Agent(\n",
    "#     role=\"Blog Manager\",\n",
    "#     goal=\"Write the blog article\",\n",
    "#     backstory=\"\"\"You are a Blog Manager. The role of a Blog Manager encompasses several critical responsibilities aimed at transforming initial drafts into polished, SEO-optimized blog articles that engage and grow an audience. Starting with drafts provided by online researchers, the Blog Manager must thoroughly understand the content, ensuring it aligns with the blog's tone, target audience, and thematic goals. Key responsibilities include:\n",
    "\n",
    "# 1. Content Enhancement: Elevate the draft's quality by improving clarity, flow, and engagement. This involves refining the narrative, adding compelling headers, and ensuring the article is reader-friendly and informative.\n",
    "\n",
    "# 2. SEO Optimization: Implement best practices for search engine optimization. This includes keyword research and integration, optimizing meta descriptions, and ensuring URL structures and heading tags enhance visibility in search engine results.\n",
    "\n",
    "# 3. Compliance and Best Practices: Ensure the content adheres to legal and ethical standards, including copyright laws and truth in advertising. The Blog Manager must also keep up with evolving SEO strategies and blogging trends to maintain and enhance content effectiveness.\n",
    "\n",
    "# 4. Editorial Oversight: Work closely with writers and contributors to maintain a consistent voice and quality across all blog posts. This may also involve managing a content calendar, scheduling posts for optimal engagement, and coordinating with marketing teams to support promotional activities.\n",
    "\n",
    "# 5. Analytics and Feedback Integration: Regularly review performance metrics to understand audience engagement and preferences. Use this data to refine future content and optimize overall blog strategy.\n",
    "\n",
    "# In summary, the Blog Manager plays a pivotal role in bridging initial research and the final publication by enhancing content quality, ensuring SEO compatibility, and aligning with the strategic objectives of the blog. This position requires a blend of creative, technical, and analytical skills to successfully manage and grow the blog's presence online.\"\"\",\n",
    "#     verbose=True,\n",
    "#     allow_delegation=True,\n",
    "#     tools=tools,\n",
    "#     llm=llm\n",
    "# )"
   ]
  },
  {
   "cell_type": "markdown",
   "id": "c7a2d9dc-6675-4c7b-94a0-a7a286e1ec8a",
   "metadata": {},
   "source": [
    "## Create the social_media_manager agent"
   ]
  },
  {
   "cell_type": "code",
   "execution_count": null,
   "id": "4cef71f1-09ca-457a-841e-531fbf86aa2f",
   "metadata": {},
   "outputs": [],
   "source": [
    "# social_media_manager = Agent(\n",
    "#     role=\"Social Media Manager\",\n",
    "#     goal=\"Write a tweet\",\n",
    "#     backstory=\"\"\"You are a Social Media Manager. The role of a Social Media Manager, particularly for managing Twitter content, involves transforming research drafts into concise, engaging tweets that resonate with the audience and adhere to platform best practices. Upon receiving a draft from an online researcher, the Social Media Manager is tasked with several critical functions:\n",
    "\n",
    "# 1. Content Condensation: Distill the core message of the draft into a tweet, which typically allows for only 280 characters. This requires a sharp focus on brevity while maintaining the essence and impact of the message.\n",
    "\n",
    "# 2. Engagement Optimization: Craft tweets to maximize engagement. This includes the strategic use of compelling language, relevant hashtags, and timely topics that resonate with the target audience.\n",
    "\n",
    "# 3. Compliance and Best Practices: Ensure that the tweets follow Twitter’s guidelines and best practices, including the appropriate use of mentions, hashtags, and links. Also, adhere to ethical standards, avoiding misinformation and respecting copyright norms.\n",
    "\n",
    "# In summary, the Social Media Manager's role is crucial in leveraging Twitter to disseminate information effectively, engage with followers, and build the brand’s presence online. This position combines creative communication skills with strategic planning and analysis to optimize social media impact.\"\"\",\n",
    "#     verbose=True,\n",
    "#     allow_delegation=True,\n",
    "#     tools=tools,\n",
    "#     llm=llm\n",
    "# )"
   ]
  },
  {
   "cell_type": "markdown",
   "id": "6e53f5ff-fa82-44b6-bc8d-9a007cd7a2ca",
   "metadata": {},
   "source": [
    "## Create the content_marketing_manager agent\n",
    "* Pay attention to the lines \"verbose=False\" and \"allow delegation=True\""
   ]
  },
  {
   "cell_type": "code",
   "execution_count": null,
   "id": "d099fdfc-47c8-460c-89cd-de8331a5cb9c",
   "metadata": {},
   "outputs": [],
   "source": [
    "# content_marketing_manager = Agent(\n",
    "#     role=\"Content Marketing Manager\",\n",
    "#     goal=\"Manage the Content Marketing Team\",\n",
    "#     backstory=\"\"\"You are an excellent Content Marketing Manager. Your primary role is to supervise each publication from the 'blog manager' \n",
    "#     and the tweets written by the 'social media manager' and approve the work for publication. Examine the work and regulate violent language, abusive content and racist content.\n",
    "    \n",
    "#     Capabilities:\n",
    "\n",
    "#     Editorial Review: Analyze the final drafts from the blog manager and the social media manager for style consistency, thematic alignment, and overall narrative flow.\n",
    "\n",
    "#     Quality Assurance: Conduct detailed checks for grammatical accuracy, factual correctness, and adherence to journalistic standards in the news content, as well as creativity and effectiveness in the advertisements.\n",
    "\n",
    "#     Feedback Loop: Provide constructive feedback to both the blog manager and social media manager, facilitating a collaborative environment for continuous improvement in content creation and presentation.\"\"\",\n",
    "#     verbose=True,\n",
    "#     allow_delegation=True,\n",
    "#     tools=tools,\n",
    "#     llm=llm\n",
    "# )"
   ]
  },
  {
   "cell_type": "markdown",
   "id": "dd7af800-6f14-49f6-afbd-8dc3df827469",
   "metadata": {},
   "source": [
    "## Define the tasks"
   ]
  },
  {
   "cell_type": "code",
   "execution_count": null,
   "id": "67e3c5c7-a349-4e07-b086-125980404145",
   "metadata": {},
   "outputs": [],
   "source": [
    "# task1 = Task(\n",
    "#     description=\"\"\"Write me a report on Agentic Behavior. After the research on Agentic Behavior,pass the \n",
    "#     findings to the blog manager to generate the final blog article. Once done, pass it to the social media \n",
    "#     manager to write a tweet on the subject.\"\"\",\n",
    "#     expected_output=\"Report on Agentic Behavior\",\n",
    "#     agent=online_researcher\n",
    "# )"
   ]
  },
  {
   "cell_type": "code",
   "execution_count": null,
   "id": "d0fda309-37f7-4dae-ad02-702835b7a815",
   "metadata": {},
   "outputs": [],
   "source": [
    "# task2 = Task(\n",
    "#     description=\"\"\"Using the research findings of the news correspondent, write an article for the blog. \n",
    "#     The publication should contain links to sources stated by the online researcher. \n",
    "#     Your final answer MUST be the full blog post of at least 3 paragraphs.\"\"\",\n",
    "#     expected_output=\"Blog Article\",    \n",
    "#     agent=blog_manager\n",
    "# )"
   ]
  },
  {
   "cell_type": "code",
   "execution_count": null,
   "id": "066dc06f-12d9-4ca2-9ade-a420aef0ac07",
   "metadata": {},
   "outputs": [],
   "source": [
    "# task3 = Task(\n",
    "#     description=\"\"\"Using the research findings of the news correspondent, write a tweet. Your final answer MUST be \n",
    "#     the full tweet.\"\"\",\n",
    "#     expected_output=\"Tweet\",\n",
    "#     agent=social_media_manager\n",
    "# )"
   ]
  },
  {
   "cell_type": "code",
   "execution_count": null,
   "id": "e74ed050-a0c1-4eef-836c-42eb47c9e7a6",
   "metadata": {},
   "outputs": [],
   "source": [
    "# task4 = Task(\n",
    "#     description=\"\"\"To meticulously review and harmonize the final output from both the blog manager and social media manager, ensuring cohesion and excellence in the final publication. Once done, publish the final report.\"\"\",\n",
    "#     expected_output=\"Final Report\",\n",
    "#     agent=content_marketing_manager\n",
    "# )"
   ]
  },
  {
   "cell_type": "markdown",
   "id": "f254aa7b-4e06-4e71-8fa8-373319093b0f",
   "metadata": {},
   "source": [
    "## Define the Crew of Agents\n",
    "* Crew with sequential process"
   ]
  },
  {
   "cell_type": "code",
   "execution_count": 12,
   "id": "7546c07e-5d6f-4467-bbf0-eec81b00c9d3",
   "metadata": {},
   "outputs": [],
   "source": [
    "# agents = [online_researcher, blog_manager, social_media_manager, content_marketing_manager]\n",
    "\n",
    "# crew = Crew(\n",
    "#     agents=agents,\n",
    "#     tasks=[task1, task2, task3, task4],\n",
    "#     verbose=2\n",
    "# )\n",
    "\n",
    "# result = crew.kickoff()\n",
    "\n",
    "# print(result)"
   ]
  },
  {
   "cell_type": "markdown",
   "id": "eb9d7bab-fe86-489e-955c-9def86cd6044",
   "metadata": {},
   "source": [
    "## Before running the app\n",
    "* Be careful, because running Multi-Agent apps like this with chatGPT-4 is going to be more expensive than running traditional apps. Pay attention to the total cost in LangSmith. For us it was around $0.21"
   ]
  },
  {
   "cell_type": "markdown",
   "id": "5f05f64e-10ce-47be-9ffd-da48727c7242",
   "metadata": {},
   "source": [
    "## We can now run the app from terminal\n",
    "* cd app\n",
    "* poetry run python3 multiagent.py"
   ]
  },
  {
   "cell_type": "markdown",
   "id": "e749ef84-b3b8-45f4-ad3b-db240cc8bf8e",
   "metadata": {},
   "source": [
    "## One important caveat: Multi-Agent Networks take time to deliver the final solution, so you will have to be patient.\n",
    "* Multi-Agent Networks, also called LLM Apps with Agentic Behavior or Multi-Agent LLM Apps take time, but their results are often better than the ones got from Non-Agentic LLM Apps."
   ]
  },
  {
   "cell_type": "markdown",
   "id": "b50020f1-31dc-425a-951a-815241e314bc",
   "metadata": {},
   "source": [
    "## You can then see workflow steps displayed in the terminal"
   ]
  },
  {
   "cell_type": "markdown",
   "id": "43ded018-5914-4546-8b25-83b2a6df2442",
   "metadata": {},
   "source": [
    "#### See this amazing output we got from the online search agent in the first stage\n",
    "* \"Thought: Since the initial and subsequent search attempts have led to the same inaccessible ScienceDirect source, and given the constraints of my tools and the lack of alternative sources provided by the search tool, **I need to adapt my approach to fulfill the task without direct access to the content of the source**. I will synthesize a general understanding of agentic behavior based on the brief information available from the search result and general knowledge of the topic.\"\n",
    "* Did you see? That was an AI Agent reasoning and making decisions in real time! Impressive. Imagine what the Multi-Agent LLM Apps will be able to do very soon!\n",
    "\n",
    "#### The results of the app will improve by fine-tuning the backstories of the agents and the task descriptions.\n",
    "* We leave this task up to you. Experiment and compare the ouputs you get with different approaches."
   ]
  },
  {
   "cell_type": "markdown",
   "id": "d8d1186d-62bb-49f0-b45e-cf1cef728769",
   "metadata": {},
   "source": [
    "## Take a look at LangSmith\n",
    "* See that the project takes a lot of tokens.\n",
    "* See that each agent is monitored.\n",
    "* Click on each agent and see input and output."
   ]
  },
  {
   "cell_type": "code",
   "execution_count": null,
   "id": "2f43118c-146a-4718-9eff-bda8d450080a",
   "metadata": {},
   "outputs": [],
   "source": []
  }
 ],
 "metadata": {
  "kernelspec": {
   "display_name": "Python 3 (ipykernel)",
   "language": "python",
   "name": "python3"
  },
  "language_info": {
   "codemirror_mode": {
    "name": "ipython",
    "version": 3
   },
   "file_extension": ".py",
   "mimetype": "text/x-python",
   "name": "python",
   "nbconvert_exporter": "python",
   "pygments_lexer": "ipython3",
   "version": "3.11.4"
  }
 },
 "nbformat": 4,
 "nbformat_minor": 5
}
